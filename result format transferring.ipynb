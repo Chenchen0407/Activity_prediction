{
 "cells": [
  {
   "cell_type": "code",
   "execution_count": 8,
   "id": "644c1eda",
   "metadata": {},
   "outputs": [],
   "source": [
    "import pandas as pd\n",
    "import numpy as np"
   ]
  },
  {
   "cell_type": "code",
   "execution_count": 9,
   "id": "dbfc0d5b",
   "metadata": {},
   "outputs": [],
   "source": [
    "df = pd.read_csv('activities_scheduler.csv')"
   ]
  },
  {
   "cell_type": "code",
   "execution_count": 10,
   "id": "5ab37a7d",
   "metadata": {},
   "outputs": [
    {
     "name": "stdout",
     "output_type": "stream",
     "text": [
      "               id                                           activity\n",
      "0      10319851.0  [[1, 12, 28], [3, 30, 61], [26, 63, 79], [1, 8...\n",
      "1      10319852.0         [[1, 12, 76], [17, 78, 98], [1, 100, 107]]\n",
      "2      10320364.0          [[1, 12, 52], [19, 54, 87], [1, 89, 107]]\n",
      "3      10320531.0          [[1, 12, 57], [24, 59, 89], [1, 91, 107]]\n",
      "4      10320534.0          [[1, 12, 44], [23, 46, 81], [1, 83, 107]]\n",
      "...           ...                                                ...\n",
      "11484  72116904.0           [[1, 12, 36], [2, 38, 72], [1, 74, 107]]\n",
      "11485  72117981.0           [[1, 12, 35], [1, 37, 67], [1, 69, 107]]\n",
      "11486  72118624.0          [[1, 12, 48], [22, 50, 84], [1, 86, 107]]\n",
      "11487  72119121.0  [[1, 12, 38], [15, 40, 73], [15, 75, 79], [1, ...\n",
      "11488  72120271.0          [[1, 26, 45], [25, 47, 81], [1, 83, 107]]\n",
      "\n",
      "[11489 rows x 2 columns]\n"
     ]
    }
   ],
   "source": [
    "# 将activity信息构建成列表格式\n",
    "df['activity'] = df[['purpose', 'arr_time', 'dep_time']].values.tolist()\n",
    "df['activity'] = df['activity'].apply(lambda x: [int(i) for i in x])\n",
    "\n",
    "# 对id进行分组，然后将所有的activity聚合起来\n",
    "new_df = df.groupby('id').agg({'activity': lambda x: list(x)}).reset_index()\n",
    "\n",
    "# 打印出新的DataFrame\n",
    "print(new_df)"
   ]
  },
  {
   "cell_type": "code",
   "execution_count": 11,
   "id": "07d4a152",
   "metadata": {},
   "outputs": [],
   "source": [
    "new_df.to_csv('activity_scheduler_26.csv',index = False)"
   ]
  },
  {
   "cell_type": "code",
   "execution_count": null,
   "id": "d37c0dcd",
   "metadata": {},
   "outputs": [],
   "source": []
  }
 ],
 "metadata": {
  "kernelspec": {
   "display_name": "Python 3 (ipykernel)",
   "language": "python",
   "name": "python3"
  },
  "language_info": {
   "codemirror_mode": {
    "name": "ipython",
    "version": 3
   },
   "file_extension": ".py",
   "mimetype": "text/x-python",
   "name": "python",
   "nbconvert_exporter": "python",
   "pygments_lexer": "ipython3",
   "version": "3.9.13"
  }
 },
 "nbformat": 4,
 "nbformat_minor": 5
}
