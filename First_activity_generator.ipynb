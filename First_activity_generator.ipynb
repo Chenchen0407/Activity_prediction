{
 "cells": [
  {
   "cell_type": "code",
   "execution_count": 13,
   "id": "ae43692a",
   "metadata": {},
   "outputs": [],
   "source": [
    "import pandas as pd\n",
    "import numpy as np"
   ]
  },
  {
   "cell_type": "code",
   "execution_count": 14,
   "id": "767e9068",
   "metadata": {},
   "outputs": [],
   "source": [
    "df = pd.read_csv('df_train_ATM.csv')"
   ]
  },
  {
   "cell_type": "code",
   "execution_count": 15,
   "id": "487014dc",
   "metadata": {},
   "outputs": [
    {
     "name": "stdout",
     "output_type": "stream",
     "text": [
      "num_of_homebody: 0\n",
      "percent_of_homebody: 0.0 %\n"
     ]
    },
    {
     "name": "stderr",
     "output_type": "stream",
     "text": [
      "C:\\Users\\15123\\AppData\\Local\\Temp\\ipykernel_23188\\1833941317.py:2: UserWarning: Boolean Series key will be reindexed to match DataFrame index.\n",
      "  dropped_count = len(df[df['arr_time'] == 180][df['dep_time'] == 1619])\n"
     ]
    }
   ],
   "source": [
    "# 统计去掉的条数\n",
    "dropped_count = len(df[df['arr_time'] == 180][df['dep_time'] == 1619])\n",
    "\n",
    "# 去掉arr_time=180且dep_time=1619的活动\n",
    "df_filtered = df[(df['arr_time'] != 180) | (df['dep_time'] != 1619)]\n",
    "\n",
    "# 输出结果\n",
    "print(\"num_of_homebody:\", dropped_count)\n",
    "print(\"percent_of_homebody:\",dropped_count/len(df)*100,\"%\")"
   ]
  },
  {
   "cell_type": "code",
   "execution_count": 16,
   "id": "04b21c91",
   "metadata": {},
   "outputs": [],
   "source": [
    "df_first_activity = df.groupby('id').first().reset_index()\n",
    "df_first_activity.to_csv('first_activities_train.csv',index = False)"
   ]
  },
  {
   "cell_type": "code",
   "execution_count": 17,
   "id": "f5a7bbcf",
   "metadata": {},
   "outputs": [],
   "source": [
    "df1 = pd.read_csv('first_activities.csv')"
   ]
  },
  {
   "cell_type": "code",
   "execution_count": 18,
   "id": "8013bf93",
   "metadata": {},
   "outputs": [],
   "source": [
    "dep_time_values = df_first_activity['dep_time'].values\n",
    "df1['dep_time'] = np.random.choice(dep_time_values, size=len(df1))\n",
    "np.random.seed(0)"
   ]
  },
  {
   "cell_type": "code",
   "execution_count": 20,
   "id": "94295665",
   "metadata": {},
   "outputs": [],
   "source": [
    "df1.to_csv('first_activities.csv',index = False)"
   ]
  },
  {
   "cell_type": "code",
   "execution_count": null,
   "id": "86fc6d1f",
   "metadata": {},
   "outputs": [],
   "source": []
  }
 ],
 "metadata": {
  "kernelspec": {
   "display_name": "Python 3 (ipykernel)",
   "language": "python",
   "name": "python3"
  },
  "language_info": {
   "codemirror_mode": {
    "name": "ipython",
    "version": 3
   },
   "file_extension": ".py",
   "mimetype": "text/x-python",
   "name": "python",
   "nbconvert_exporter": "python",
   "pygments_lexer": "ipython3",
   "version": "3.9.13"
  }
 },
 "nbformat": 4,
 "nbformat_minor": 5
}
